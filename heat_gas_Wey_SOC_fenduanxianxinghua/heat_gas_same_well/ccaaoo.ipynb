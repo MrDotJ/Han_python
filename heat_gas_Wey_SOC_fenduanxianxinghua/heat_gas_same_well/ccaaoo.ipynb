{
 "cells": [
  {
   "cell_type": "code",
   "execution_count": 5,
   "metadata": {
    "collapsed": true
   },
   "outputs": [],
   "source": [
    "from resource.config4_with_gas import get_config\n",
    "from give_bid_price_cal_original_problem import OneLayer1\n",
    "from fix_binary_variable_derive_kkt import OneLayer2\n",
    "import numpy as np"
   ]
  },
  {
   "cell_type": "code",
   "execution_count": 9,
   "outputs": [],
   "source": [
    "value_chp_heat_quoted_price = np.ones((10, 10)) * 2\n",
    "value_well_quoted_price = np.ones((10, 10)) * 2\n",
    "segment_num = 8"
   ],
   "metadata": {
    "collapsed": false,
    "pycharm": {
     "name": "#%%\n"
    }
   }
  },
  {
   "cell_type": "code",
   "execution_count": 10,
   "outputs": [
    {
     "name": "stdout",
     "output_type": "stream",
     "text": [
      "Using license file c:\\gurobi911\\gurobi.lic\n",
      "[[1.3 0. ]]\n"
     ]
    },
    {
     "name": "stderr",
     "output_type": "stream",
     "text": [
      "c:\\users\\a1826\\appdata\\local\\programs\\python\\python37\\lib\\site-packages\\ipykernel_launcher.py:29: DeprecationWarning: Deprecated, pass a TempConstr or use Model.addLConstr\n"
     ]
    }
   ],
   "source": [
    "segment_num = 8\n",
    "power_system_info, heat_system_info, chp_system_info, gas_system_info = get_config()\n",
    "one1 = OneLayer1(power_system_info, heat_system_info, chp_system_info, gas_system_info, segment_num)\n",
    "one1.build_power_system()\n",
    "one1.build_gas_system()\n",
    "one1.build_heat_system()\n",
    "one1.build_power_system_original_and_dual_constraints()\n",
    "one1.build_heat_system_original_and_dual_constraints()\n",
    "one1.build_gas_system_original_and_dual_constrains()\n",
    "one1.build_lower_objective(value_chp_heat_quoted_price, value_well_quoted_price)\n",
    "bin1, bin2 = one1.optimize()\n",
    "# print(np.where(bin1[0].reshape(-1) == 1))\n",
    "# print(np.where(bin1[1].reshape(-1) == 1))\n",
    "# print(np.where(bin1[2].reshape(-1) == 1))\n",
    "# print(np.where(bin1[3].reshape(-1) == 1))\n",
    "# print(np.where(bin1[4].reshape(-1) == 1))\n",
    "# print(np.where(bin2[0].reshape(-1) == 1))\n",
    "\n",
    "\n",
    "one2 = OneLayer2(power_system_info, heat_system_info, chp_system_info, gas_system_info, segment_num)\n",
    "one2.build_power_system()\n",
    "one2.build_gas_system()\n",
    "one2.build_heat_system()\n",
    "one2.build_power_system_original_and_dual_constraints()\n",
    "one2.build_heat_system_original_and_dual_constraints()\n",
    "one2.build_gas_system_original_and_dual_constrains(bin1, bin2)\n",
    "one2.build_lower_objective()\n",
    "one2.build_kkt_derivative_constraints()\n",
    "one2.build_upper_constraints()\n",
    "one2.build_upper_objective()\n",
    "d = one2.optimize([1])\n",
    "bid = d[0]\n",
    "value_generator_quoted_price, value_chp_power_quoted_price, value_chp_heat_quoted_price, value_well_quoted_price = \\\n",
    "    bid[0].astype(np.float), bid[1].astype(np.float), bid[2].astype(np.float), bid[3].astype(np.float)\n",
    "print(value_well_quoted_price.reshape((1, -1)))"
   ],
   "metadata": {
    "collapsed": false,
    "pycharm": {
     "name": "#%%\n"
    }
   }
  },
  {
   "cell_type": "code",
   "execution_count": 11,
   "outputs": [
    {
     "name": "stderr",
     "output_type": "stream",
     "text": [
      "c:\\users\\a1826\\appdata\\local\\programs\\python\\python37\\lib\\site-packages\\ipykernel_launcher.py:29: DeprecationWarning: Deprecated, pass a TempConstr or use Model.addLConstr\n"
     ]
    },
    {
     "name": "stdout",
     "output_type": "stream",
     "text": [
      "[[1.8 0. ]]\n"
     ]
    }
   ],
   "source": [
    "segment_num = 8\n",
    "power_system_info, heat_system_info, chp_system_info, gas_system_info = get_config()\n",
    "one1 = OneLayer1(power_system_info, heat_system_info, chp_system_info, gas_system_info, segment_num)\n",
    "one1.build_power_system()\n",
    "one1.build_gas_system()\n",
    "one1.build_heat_system()\n",
    "one1.build_power_system_original_and_dual_constraints()\n",
    "one1.build_heat_system_original_and_dual_constraints()\n",
    "one1.build_gas_system_original_and_dual_constrains()\n",
    "one1.build_lower_objective(value_chp_heat_quoted_price, value_well_quoted_price)\n",
    "bin1, bin2 = one1.optimize()\n",
    "# print(np.where(bin1[0].reshape(-1) == 1))\n",
    "# print(np.where(bin1[1].reshape(-1) == 1))\n",
    "# print(np.where(bin1[2].reshape(-1) == 1))\n",
    "# print(np.where(bin1[3].reshape(-1) == 1))\n",
    "# print(np.where(bin1[4].reshape(-1) == 1))\n",
    "# print(np.where(bin2[0].reshape(-1) == 1))\n",
    "\n",
    "\n",
    "one2 = OneLayer2(power_system_info, heat_system_info, chp_system_info, gas_system_info, segment_num)\n",
    "one2.build_power_system()\n",
    "one2.build_gas_system()\n",
    "one2.build_heat_system()\n",
    "one2.build_power_system_original_and_dual_constraints()\n",
    "one2.build_heat_system_original_and_dual_constraints()\n",
    "one2.build_gas_system_original_and_dual_constrains(bin1, bin2)\n",
    "one2.build_lower_objective()\n",
    "one2.build_kkt_derivative_constraints()\n",
    "one2.build_upper_constraints()\n",
    "one2.build_upper_objective()\n",
    "d = one2.optimize([1])\n",
    "bid = d[0]\n",
    "value_generator_quoted_price, value_chp_power_quoted_price, value_chp_heat_quoted_price, value_well_quoted_price = \\\n",
    "    bid[0].astype(np.float), bid[1].astype(np.float), bid[2].astype(np.float), bid[3].astype(np.float)\n",
    "print(value_well_quoted_price.reshape((1, -1)))\n"
   ],
   "metadata": {
    "collapsed": false,
    "pycharm": {
     "name": "#%%\n"
    }
   }
  },
  {
   "cell_type": "code",
   "execution_count": 13,
   "outputs": [
    {
     "data": {
      "text/plain": "array([[[<gurobi.Var upper_well_output[0,0,0] (value 0.42857142856080344)>]],\n\n       [[<gurobi.Var upper_well_output[1,0,0] (value 0.0)>]]],\n      dtype=object)"
     },
     "execution_count": 13,
     "metadata": {},
     "output_type": "execute_result"
    }
   ],
   "source": [
    "one2.upper_gas_well_output"
   ],
   "metadata": {
    "collapsed": false,
    "pycharm": {
     "name": "#%%\n"
    }
   }
  },
  {
   "cell_type": "code",
   "execution_count": 15,
   "outputs": [
    {
     "data": {
      "text/plain": "array([[[<gurobi.Var lower_well_output[0,0,0] (value 0.0)>]],\n\n       [[<gurobi.Var lower_well_output[1,0,0] (value 0.0)>]],\n\n       [[<gurobi.Var lower_well_output[2,0,0] (value 0.5714285714391966)>]],\n\n       [[<gurobi.Var lower_well_output[3,0,0] (value 0.0)>]]],\n      dtype=object)"
     },
     "execution_count": 15,
     "metadata": {},
     "output_type": "execute_result"
    }
   ],
   "source": [
    "one2.lower_gas_well_output"
   ],
   "metadata": {
    "collapsed": false,
    "pycharm": {
     "name": "#%%\n"
    }
   }
  },
  {
   "cell_type": "code",
   "execution_count": 17,
   "outputs": [
    {
     "data": {
      "text/plain": "array([[[<gurobi.Var upper_chp_heat_output[0,0,0] (value 0.00041787345896582284)>]],\n\n       [[<gurobi.Var upper_chp_heat_output[1,0,0] (value 0.9795821265410339)>]]],\n      dtype=object)"
     },
     "execution_count": 17,
     "metadata": {},
     "output_type": "execute_result"
    }
   ],
   "source": [
    "one2.upper_chp_heat_output"
   ],
   "metadata": {
    "collapsed": false,
    "pycharm": {
     "name": "#%%\n"
    }
   }
  },
  {
   "cell_type": "code",
   "execution_count": 18,
   "outputs": [
    {
     "data": {
      "text/plain": "array([[[<gurobi.Var lower_chp_heat_output[0,0,0] (value 0.0)>]],\n\n       [[<gurobi.Var lower_chp_heat_output[1,0,0] (value 0.0)>]],\n\n       [[<gurobi.Var lower_chp_heat_output[2,0,0] (value 0.0)>]],\n\n       [[<gurobi.Var lower_chp_heat_output[3,0,0] (value 0.0)>]]],\n      dtype=object)"
     },
     "execution_count": 18,
     "metadata": {},
     "output_type": "execute_result"
    }
   ],
   "source": [
    "one2.lower_chp_heat_output"
   ],
   "metadata": {
    "collapsed": false,
    "pycharm": {
     "name": "#%%\n"
    }
   }
  },
  {
   "cell_type": "code",
   "execution_count": 19,
   "outputs": [
    {
     "name": "stdout",
     "output_type": "stream",
     "text": [
      "[[1.3 0. ]]\n"
     ]
    },
    {
     "name": "stderr",
     "output_type": "stream",
     "text": [
      "c:\\users\\a1826\\appdata\\local\\programs\\python\\python37\\lib\\site-packages\\ipykernel_launcher.py:29: DeprecationWarning: Deprecated, pass a TempConstr or use Model.addLConstr\n"
     ]
    }
   ],
   "source": [
    "segment_num = 8\n",
    "power_system_info, heat_system_info, chp_system_info, gas_system_info = get_config()\n",
    "one1 = OneLayer1(power_system_info, heat_system_info, chp_system_info, gas_system_info, segment_num)\n",
    "one1.build_power_system()\n",
    "one1.build_gas_system()\n",
    "one1.build_heat_system()\n",
    "one1.build_power_system_original_and_dual_constraints()\n",
    "one1.build_heat_system_original_and_dual_constraints()\n",
    "one1.build_gas_system_original_and_dual_constrains()\n",
    "one1.build_lower_objective(value_chp_heat_quoted_price, value_well_quoted_price)\n",
    "bin1, bin2 = one1.optimize()\n",
    "# print(np.where(bin1[0].reshape(-1) == 1))\n",
    "# print(np.where(bin1[1].reshape(-1) == 1))\n",
    "# print(np.where(bin1[2].reshape(-1) == 1))\n",
    "# print(np.where(bin1[3].reshape(-1) == 1))\n",
    "# print(np.where(bin1[4].reshape(-1) == 1))\n",
    "# print(np.where(bin2[0].reshape(-1) == 1))\n",
    "\n",
    "\n",
    "one2 = OneLayer2(power_system_info, heat_system_info, chp_system_info, gas_system_info, segment_num)\n",
    "one2.build_power_system()\n",
    "one2.build_gas_system()\n",
    "one2.build_heat_system()\n",
    "one2.build_power_system_original_and_dual_constraints()\n",
    "one2.build_heat_system_original_and_dual_constraints()\n",
    "one2.build_gas_system_original_and_dual_constrains(bin1, bin2)\n",
    "one2.build_lower_objective()\n",
    "one2.build_kkt_derivative_constraints()\n",
    "one2.build_upper_constraints()\n",
    "one2.build_upper_objective()\n",
    "d = one2.optimize([1])\n",
    "bid = d[0]\n",
    "value_generator_quoted_price, value_chp_power_quoted_price, value_chp_heat_quoted_price, value_well_quoted_price = \\\n",
    "    bid[0].astype(np.float), bid[1].astype(np.float), bid[2].astype(np.float), bid[3].astype(np.float)\n",
    "print(value_well_quoted_price.reshape((1, -1)))"
   ],
   "metadata": {
    "collapsed": false,
    "pycharm": {
     "name": "#%%\n"
    }
   }
  },
  {
   "cell_type": "code",
   "execution_count": 20,
   "outputs": [
    {
     "data": {
      "text/plain": "array([[[<gurobi.Var upper_well_output[0,0,0] (value 0.14285714285674292)>]],\n\n       [[<gurobi.Var upper_well_output[1,0,0] (value 0.3335999999989894)>]]],\n      dtype=object)"
     },
     "execution_count": 20,
     "metadata": {},
     "output_type": "execute_result"
    }
   ],
   "source": [
    "one2.upper_gas_well_output"
   ],
   "metadata": {
    "collapsed": false,
    "pycharm": {
     "name": "#%%\n"
    }
   }
  },
  {
   "cell_type": "code",
   "execution_count": 24,
   "outputs": [
    {
     "name": "stdout",
     "output_type": "stream",
     "text": [
      "(array([1], dtype=int64),)\n",
      "(array([1, 2], dtype=int64),)\n",
      "(array([2, 3], dtype=int64),)\n",
      "(array([4, 5], dtype=int64),)\n",
      "(array([5, 6], dtype=int64),)\n",
      "(array([4, 5], dtype=int64),)\n"
     ]
    }
   ],
   "source": [
    "print(np.where(bin1[0].reshape(-1) == 1))\n",
    "print(np.where(bin1[1].reshape(-1) == 1))\n",
    "print(np.where(bin1[2].reshape(-1) == 1))\n",
    "print(np.where(bin1[3].reshape(-1) == 1))\n",
    "print(np.where(bin1[4].reshape(-1) == 1))\n",
    "print(np.where(bin1[5].reshape(-1) == 1))"
   ],
   "metadata": {
    "collapsed": false,
    "pycharm": {
     "name": "#%%\n"
    }
   }
  },
  {
   "cell_type": "code",
   "execution_count": 25,
   "outputs": [
    {
     "name": "stderr",
     "output_type": "stream",
     "text": [
      "c:\\users\\a1826\\appdata\\local\\programs\\python\\python37\\lib\\site-packages\\ipykernel_launcher.py:29: DeprecationWarning: Deprecated, pass a TempConstr or use Model.addLConstr\n"
     ]
    },
    {
     "name": "stdout",
     "output_type": "stream",
     "text": [
      "[[1.8 0. ]]\n"
     ]
    }
   ],
   "source": [
    "segment_num = 8\n",
    "power_system_info, heat_system_info, chp_system_info, gas_system_info = get_config()\n",
    "one1 = OneLayer1(power_system_info, heat_system_info, chp_system_info, gas_system_info, segment_num)\n",
    "one1.build_power_system()\n",
    "one1.build_gas_system()\n",
    "one1.build_heat_system()\n",
    "one1.build_power_system_original_and_dual_constraints()\n",
    "one1.build_heat_system_original_and_dual_constraints()\n",
    "one1.build_gas_system_original_and_dual_constrains()\n",
    "one1.build_lower_objective(value_chp_heat_quoted_price, value_well_quoted_price)\n",
    "bin1, bin2 = one1.optimize()\n",
    "# print(np.where(bin1[0].reshape(-1) == 1))\n",
    "# print(np.where(bin1[1].reshape(-1) == 1))\n",
    "# print(np.where(bin1[2].reshape(-1) == 1))\n",
    "# print(np.where(bin1[3].reshape(-1) == 1))\n",
    "# print(np.where(bin1[4].reshape(-1) == 1))\n",
    "# print(np.where(bin2[0].reshape(-1) == 1))\n",
    "\n",
    "\n",
    "one2 = OneLayer2(power_system_info, heat_system_info, chp_system_info, gas_system_info, segment_num)\n",
    "one2.build_power_system()\n",
    "one2.build_gas_system()\n",
    "one2.build_heat_system()\n",
    "one2.build_power_system_original_and_dual_constraints()\n",
    "one2.build_heat_system_original_and_dual_constraints()\n",
    "one2.build_gas_system_original_and_dual_constrains(bin1, bin2)\n",
    "one2.build_lower_objective()\n",
    "one2.build_kkt_derivative_constraints()\n",
    "one2.build_upper_constraints()\n",
    "one2.build_upper_objective()\n",
    "d = one2.optimize([1])\n",
    "bid = d[0]\n",
    "value_generator_quoted_price, value_chp_power_quoted_price, value_chp_heat_quoted_price, value_well_quoted_price = \\\n",
    "    bid[0].astype(np.float), bid[1].astype(np.float), bid[2].astype(np.float), bid[3].astype(np.float)\n",
    "print(value_well_quoted_price.reshape((1, -1)))"
   ],
   "metadata": {
    "collapsed": false,
    "pycharm": {
     "name": "#%%\n"
    }
   }
  },
  {
   "cell_type": "code",
   "execution_count": 26,
   "outputs": [
    {
     "name": "stdout",
     "output_type": "stream",
     "text": [
      "(array([4], dtype=int64),)\n",
      "(array([4, 5], dtype=int64),)\n",
      "(array([5, 6], dtype=int64),)\n",
      "(array([6, 7], dtype=int64),)\n",
      "(array([6, 7], dtype=int64),)\n",
      "(array([6, 7], dtype=int64),)\n"
     ]
    }
   ],
   "source": [
    "print(np.where(bin1[0].reshape(-1) == 1))\n",
    "print(np.where(bin1[1].reshape(-1) == 1))\n",
    "print(np.where(bin1[2].reshape(-1) == 1))\n",
    "print(np.where(bin1[3].reshape(-1) == 1))\n",
    "print(np.where(bin1[4].reshape(-1) == 1))\n",
    "print(np.where(bin1[5].reshape(-1) == 1))"
   ],
   "metadata": {
    "collapsed": false,
    "pycharm": {
     "name": "#%%\n"
    }
   }
  },
  {
   "cell_type": "code",
   "execution_count": 27,
   "outputs": [
    {
     "name": "stdout",
     "output_type": "stream",
     "text": [
      "[[1.3 0. ]]\n"
     ]
    },
    {
     "name": "stderr",
     "output_type": "stream",
     "text": [
      "c:\\users\\a1826\\appdata\\local\\programs\\python\\python37\\lib\\site-packages\\ipykernel_launcher.py:29: DeprecationWarning: Deprecated, pass a TempConstr or use Model.addLConstr\n"
     ]
    }
   ],
   "source": [
    "segment_num = 8\n",
    "power_system_info, heat_system_info, chp_system_info, gas_system_info = get_config()\n",
    "one1 = OneLayer1(power_system_info, heat_system_info, chp_system_info, gas_system_info, segment_num)\n",
    "one1.build_power_system()\n",
    "one1.build_gas_system()\n",
    "one1.build_heat_system()\n",
    "one1.build_power_system_original_and_dual_constraints()\n",
    "one1.build_heat_system_original_and_dual_constraints()\n",
    "one1.build_gas_system_original_and_dual_constrains()\n",
    "one1.build_lower_objective(value_chp_heat_quoted_price, value_well_quoted_price)\n",
    "bin1, bin2 = one1.optimize()\n",
    "# print(np.where(bin1[0].reshape(-1) == 1))\n",
    "# print(np.where(bin1[1].reshape(-1) == 1))\n",
    "# print(np.where(bin1[2].reshape(-1) == 1))\n",
    "# print(np.where(bin1[3].reshape(-1) == 1))\n",
    "# print(np.where(bin1[4].reshape(-1) == 1))\n",
    "# print(np.where(bin2[0].reshape(-1) == 1))\n",
    "\n",
    "\n",
    "one2 = OneLayer2(power_system_info, heat_system_info, chp_system_info, gas_system_info, segment_num)\n",
    "one2.build_power_system()\n",
    "one2.build_gas_system()\n",
    "one2.build_heat_system()\n",
    "one2.build_power_system_original_and_dual_constraints()\n",
    "one2.build_heat_system_original_and_dual_constraints()\n",
    "one2.build_gas_system_original_and_dual_constrains(bin1, bin2)\n",
    "one2.build_lower_objective()\n",
    "one2.build_kkt_derivative_constraints()\n",
    "one2.build_upper_constraints()\n",
    "one2.build_upper_objective()\n",
    "d = one2.optimize([1])\n",
    "bid = d[0]\n",
    "value_generator_quoted_price, value_chp_power_quoted_price, value_chp_heat_quoted_price, value_well_quoted_price = \\\n",
    "    bid[0].astype(np.float), bid[1].astype(np.float), bid[2].astype(np.float), bid[3].astype(np.float)\n",
    "print(value_well_quoted_price.reshape((1, -1)))"
   ],
   "metadata": {
    "collapsed": false,
    "pycharm": {
     "name": "#%%\n"
    }
   }
  },
  {
   "cell_type": "code",
   "execution_count": 28,
   "outputs": [
    {
     "name": "stdout",
     "output_type": "stream",
     "text": [
      "(array([1], dtype=int64),)\n",
      "(array([1, 2], dtype=int64),)\n",
      "(array([2, 3], dtype=int64),)\n",
      "(array([4, 5], dtype=int64),)\n",
      "(array([5, 6], dtype=int64),)\n",
      "(array([4, 5], dtype=int64),)\n"
     ]
    }
   ],
   "source": [
    "print(np.where(bin1[0].reshape(-1) == 1))\n",
    "print(np.where(bin1[1].reshape(-1) == 1))\n",
    "print(np.where(bin1[2].reshape(-1) == 1))\n",
    "print(np.where(bin1[3].reshape(-1) == 1))\n",
    "print(np.where(bin1[4].reshape(-1) == 1))\n",
    "print(np.where(bin1[5].reshape(-1) == 1))"
   ],
   "metadata": {
    "collapsed": false,
    "pycharm": {
     "name": "#%%\n"
    }
   }
  },
  {
   "cell_type": "code",
   "execution_count": null,
   "outputs": [],
   "source": [],
   "metadata": {
    "collapsed": false,
    "pycharm": {
     "name": "#%%\n"
    }
   }
  }
 ],
 "metadata": {
  "kernelspec": {
   "display_name": "Python 3",
   "language": "python",
   "name": "python3"
  },
  "language_info": {
   "codemirror_mode": {
    "name": "ipython",
    "version": 2
   },
   "file_extension": ".py",
   "mimetype": "text/x-python",
   "name": "python",
   "nbconvert_exporter": "python",
   "pygments_lexer": "ipython2",
   "version": "2.7.6"
  }
 },
 "nbformat": 4,
 "nbformat_minor": 0
}